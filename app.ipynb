{
  "nbformat": 4,
  "nbformat_minor": 0,
  "metadata": {
    "colab": {
      "provenance": []
    },
    "kernelspec": {
      "name": "python3",
      "display_name": "Python 3"
    },
    "language_info": {
      "name": "python"
    }
  },
  "cells": [
    {
      "cell_type": "code",
      "source": [
        "%%writefile app.py"
      ],
      "metadata": {
        "colab": {
          "base_uri": "https://localhost:8080/"
        },
        "id": "mMKUGlZDKjjM",
        "outputId": "b67c836d-a3bb-4c56-933b-35132e9a6a1e"
      },
      "execution_count": 3,
      "outputs": [
        {
          "output_type": "stream",
          "name": "stdout",
          "text": [
            "Overwriting app.py\n"
          ]
        }
      ]
    },
    {
      "cell_type": "code",
      "source": [
        "from PIL import Image, ImageOps\n",
        "import numpy as np\n",
        "import tensorflow as tf\n",
        "import streamlit as st"
      ],
      "metadata": {
        "id": "dyidhC9JKrgX"
      },
      "execution_count": 4,
      "outputs": []
    },
    {
      "cell_type": "code",
      "source": [
        "# Vérification des dépendances\n",
        "try:\n",
        "    st.set_page_config(layout=\"wide\")\n",
        "except Exception as e:\n",
        "    st.warning(f\"Erreur de configuration : {e}\")"
      ],
      "metadata": {
        "colab": {
          "base_uri": "https://localhost:8080/"
        },
        "id": "BX9P2jCmKw0A",
        "outputId": "9e3abc05-dfa5-4b84-c34d-cf3a61fb5072"
      },
      "execution_count": 5,
      "outputs": [
        {
          "output_type": "stream",
          "name": "stderr",
          "text": [
            "2025-04-18 00:01:50.790 WARNING streamlit.runtime.scriptrunner_utils.script_run_context: Thread 'MainThread': missing ScriptRunContext! This warning can be ignored when running in bare mode.\n"
          ]
        }
      ]
    },
    {
      "cell_type": "code",
      "source": [
        "# Chargement du modèle\n",
        "@st.cache_resource\n",
        "def load_model():\n",
        "    try:\n",
        "        model = tf.keras.models.load_model('keras_model.h5', compile=False)\n",
        "        return model\n",
        "    except Exception as e:\n",
        "        st.error(f\"Erreur de chargement du modèle : {e}\")\n",
        "        return None\n",
        "\n",
        "model = load_model()\n",
        "class_names = ['bus', 'camion,', 'minibus', 'suv']\n",
        "\n"
      ],
      "metadata": {
        "colab": {
          "base_uri": "https://localhost:8080/"
        },
        "id": "WF0R5gwHG6XV",
        "outputId": "5667edec-1212-4df1-c1b9-61e8a8a5c08e"
      },
      "execution_count": 6,
      "outputs": [
        {
          "output_type": "stream",
          "name": "stderr",
          "text": [
            "2025-04-18 00:02:01.966 WARNING streamlit.runtime.scriptrunner_utils.script_run_context: Thread 'MainThread': missing ScriptRunContext! This warning can be ignored when running in bare mode.\n",
            "2025-04-18 00:02:02.534 \n",
            "  \u001b[33m\u001b[1mWarning:\u001b[0m to view this Streamlit app on a browser, run it with the following\n",
            "  command:\n",
            "\n",
            "    streamlit run /usr/local/lib/python3.11/dist-packages/colab_kernel_launcher.py [ARGUMENTS]\n",
            "2025-04-18 00:02:02.536 Thread 'MainThread': missing ScriptRunContext! This warning can be ignored when running in bare mode.\n",
            "2025-04-18 00:02:02.537 Thread 'MainThread': missing ScriptRunContext! This warning can be ignored when running in bare mode.\n",
            "2025-04-18 00:02:02.561 Thread 'MainThread': missing ScriptRunContext! This warning can be ignored when running in bare mode.\n",
            "2025-04-18 00:02:02.562 Thread 'MainThread': missing ScriptRunContext! This warning can be ignored when running in bare mode.\n",
            "2025-04-18 00:02:02.563 Thread 'MainThread': missing ScriptRunContext! This warning can be ignored when running in bare mode.\n",
            "2025-04-18 00:02:02.564 Thread 'MainThread': missing ScriptRunContext! This warning can be ignored when running in bare mode.\n"
          ]
        }
      ]
    },
    {
      "cell_type": "code",
      "source": [
        "# Interface utilisateur\n",
        "st.title(\"🚗 Système de reconnaissance de Véhicules\")\n",
        "st.markdown(\"\"\"\n",
        "<style>\n",
        ".stApp { max-width: 900px; margin: 0 auto; }\n",
        ".st-bq { border-radius: 10px; }\n",
        "</style>\n",
        "\"\"\", unsafe_allow_html=True)\n",
        "\n"
      ],
      "metadata": {
        "colab": {
          "base_uri": "https://localhost:8080/"
        },
        "id": "DdkpiEpqHasY",
        "outputId": "e3576060-bcdd-4d1d-ba75-db0e91bba696"
      },
      "execution_count": 7,
      "outputs": [
        {
          "output_type": "stream",
          "name": "stderr",
          "text": [
            "2025-04-18 00:02:31.287 Thread 'MainThread': missing ScriptRunContext! This warning can be ignored when running in bare mode.\n",
            "2025-04-18 00:02:31.294 Thread 'MainThread': missing ScriptRunContext! This warning can be ignored when running in bare mode.\n",
            "2025-04-18 00:02:31.297 Thread 'MainThread': missing ScriptRunContext! This warning can be ignored when running in bare mode.\n",
            "2025-04-18 00:02:31.299 Thread 'MainThread': missing ScriptRunContext! This warning can be ignored when running in bare mode.\n"
          ]
        },
        {
          "output_type": "execute_result",
          "data": {
            "text/plain": [
              "DeltaGenerator()"
            ]
          },
          "metadata": {},
          "execution_count": 7
        }
      ]
    },
    {
      "cell_type": "code",
      "source": [
        "# Fonction de prétraitement\n",
        "def preprocess_image(image):\n",
        "    try:\n",
        "        size = (224, 224)\n",
        "        image = ImageOps.fit(image, size, Image.Resampling.LANCZOS)\n",
        "        image_array = np.asarray(image)\n",
        "        normalized_image = (image_array.astype(np.float32) / 127.5) - 1\n",
        "        return normalized_image\n",
        "    except Exception as e:\n",
        "        st.error(f\"Erreur de prétraitement : {e}\")\n",
        "        return None"
      ],
      "metadata": {
        "id": "hFKE13kNHyFp"
      },
      "execution_count": 8,
      "outputs": []
    },
    {
      "cell_type": "code",
      "source": [
        "# Upload d'image\n",
        "uploaded_file = st.file_uploader(\"Importez une image de véhicule...\", type=[\"jpg\", \"jpeg\", \"png\"])\n",
        "\n",
        "if uploaded_file is not None and model is not None:\n",
        "    try:\n",
        "        # Affichage image originale\n",
        "        image = Image.open(uploaded_file).convert(\"RGB\")\n",
        "        st.image(image, caption='Image importée', width=300)\n",
        "\n",
        "        # Prétraitement\n",
        "        processed_image = preprocess_image(image)\n",
        "\n",
        "        if processed_image is not None:\n",
        "            # Prédiction\n",
        "            data = np.expand_dims(processed_image, axis=0)\n",
        "            prediction = model.predict(data)\n",
        "            class_idx = np.argmax(prediction[0])\n",
        "            confidence = prediction[0][class_idx]\n",
        "\n",
        "            # Résultats\n",
        "            st.success(f\"\"\"\n",
        "            **Votre véhicule est un ** {class_names[class_idx].upper()}\n",
        "            **Confiance :** {confidence:.2%}\n",
        "            \"\"\")\n",
        "\n",
        "    except Exception as e:\n",
        "        st.error(f\"Une erreur est survenue : {e}\")"
      ],
      "metadata": {
        "colab": {
          "base_uri": "https://localhost:8080/"
        },
        "id": "FLle6szFIuAZ",
        "outputId": "4bd79e8e-4347-41d2-e88f-46933d905905"
      },
      "execution_count": 9,
      "outputs": [
        {
          "output_type": "stream",
          "name": "stderr",
          "text": [
            "2025-04-18 00:02:37.538 Thread 'MainThread': missing ScriptRunContext! This warning can be ignored when running in bare mode.\n",
            "2025-04-18 00:02:37.539 Thread 'MainThread': missing ScriptRunContext! This warning can be ignored when running in bare mode.\n",
            "2025-04-18 00:02:37.541 Thread 'MainThread': missing ScriptRunContext! This warning can be ignored when running in bare mode.\n",
            "2025-04-18 00:02:37.542 Thread 'MainThread': missing ScriptRunContext! This warning can be ignored when running in bare mode.\n",
            "2025-04-18 00:02:37.545 Thread 'MainThread': missing ScriptRunContext! This warning can be ignored when running in bare mode.\n"
          ]
        }
      ]
    }
  ]
}